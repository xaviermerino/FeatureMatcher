{
 "cells": [
  {
   "cell_type": "code",
   "execution_count": 62,
   "metadata": {},
   "outputs": [],
   "source": [
    "import argparse\n",
    "import os\n",
    "import numpy as np\n",
    "from sklearn.metrics.pairwise import cosine_similarity\n",
    "from pathlib import Path\n",
    "import re\n",
    "from tqdm import tqdm\n",
    "import pandas as pd\n",
    "import csv\n",
    "\n",
    "\n",
    "def list_files(path:str, allowed_ext:list) -> list:\n",
    "    return [\n",
    "        Path(os.path.join(dp, f)) \n",
    "        for dp, dn, filenames in os.walk(path) \n",
    "        for f in filenames \n",
    "        if os.path.splitext(f)[1] in allowed_ext\n",
    "    ]\n",
    "\n",
    "\n",
    "class Matcher:\n",
    "    def __init__(self, probe_directory:str, gallery_directory:str=None, subject_id_regexp:str=None):\n",
    "        p_templates = list_files(probe_directory, [\".npy\"])\n",
    "        self.p_features = self.get_features(p_templates, \"Probe Features: \")\n",
    "        self.p_subjects = self.get_subject_ids(p_templates, subject_id_regexp, \"Probe Subjects: \")\n",
    "        self.p_labels = self.get_labels(p_templates, \"Probe Labels: \")\n",
    "\n",
    "        if gallery_directory is None:\n",
    "            g_templates = p_templates\n",
    "            self.g_features = self.p_features\n",
    "            self.g_subject = self.p_subjects\n",
    "            self.g_labels = self.p_labels\n",
    "            print(f\"Matching {probe_directory} to {probe_directory}\")\n",
    "        else:\n",
    "            g_templates = list_files(gallery_directory, [\".npy\"])\n",
    "            self.g_features = self.get_features(g_templates, \"Gallery Features: \")\n",
    "            self.g_subjects = self.get_subject_ids(g_templates, subject_id_regexp, \"Gallery Subjects: \")\n",
    "            self.g_labels = self.get_labels(g_templates, \"Gallery Labels: \")\n",
    "            self.probe_equal_gallery = False\n",
    "            print(f\"Matching {probe_directory} to {gallery_directory}\")\n",
    "\n",
    "        num_probes, num_gallery = len(p_templates), len(g_templates)\n",
    "\n",
    "        # This matrix has:\n",
    "        #   0:  Impostors, 1:  Authentic, -1: Marked for Removal\n",
    "        self.authentic_impostor = np.zeros(shape=(num_probes, num_gallery), dtype=np.int8)\n",
    "        for i in range(num_probes):\n",
    "            self.authentic_impostor[i, self.p_subjects[i] == self.g_subjects] = 1\n",
    "            self.authentic_impostor[i, self.p_labels[i] == self.g_labels] = -1\n",
    "\n",
    "            if gallery_directory is None:\n",
    "                self.authentic_impostor[i, 0 : min(i + 1, num_gallery)] = -1\n",
    "        \n",
    "        # Find comparisons with itself\n",
    "        locations = np.transpose(\n",
    "            np.where(np.core.defchararray.find(self.p_labels[:,np.newaxis], self.g_labels) >= 0)\n",
    "        )\n",
    "\n",
    "        for location in locations:\n",
    "            i, j = location\n",
    "            self.authentic_impostor[i, j] = -1\n",
    "\n",
    "        self.matches = self.match_features(self.p_features, self.g_features)\n",
    "\n",
    "\n",
    "    def get_labels(self, paths:list, description:str=\"Labels:\") -> np.ndarray:\n",
    "        return np.asarray([str(p.stem) for p in tqdm(paths, desc=description)])\n",
    "\n",
    "\n",
    "    def get_features(self, feature_paths:list, description:str=\"Features:\") -> np.ndarray:\n",
    "        return np.asarray([ np.load(str(fp)) for fp in tqdm(feature_paths, desc=description) ])\n",
    "\n",
    "\n",
    "    def get_subject_ids(self, feature_paths:list, regexp:str=None, description:str=\"Subjects:\") -> np.array:\n",
    "        def matcher(path, regexp=None):\n",
    "            filename = str(Path(path).stem)\n",
    "            if regexp is None:\n",
    "                return filename.split(\"_\")[0]\n",
    "            else:\n",
    "                match = re.search(regexp, filename)\n",
    "                if not match: raise TypeError\n",
    "                return match.group(0)\n",
    "        \n",
    "        return np.asarray([matcher(f, regexp) for f in tqdm(feature_paths, desc=description)])\n",
    "\n",
    "\n",
    "    def match_features(self, probes:np.ndarray, gallery:np.ndarray) -> np.ndarray:\n",
    "        return cosine_similarity(probes, gallery)\n",
    "\n",
    "\n",
    "    def create_label_indices(self, labels) -> np.ndarray:\n",
    "        indices = np.linspace(0, len(labels) - 1, len(labels)).astype(int)\n",
    "        return np.transpose(np.vstack([indices, labels]))\n",
    "\n",
    "\n",
    "    def get_indices_score(self, auth_or_imp):\n",
    "        x, y = np.where(self.authentic_impostor == auth_or_imp)\n",
    "        return np.transpose(\n",
    "            np.vstack(\n",
    "                [\n",
    "                    x,\n",
    "                    y,\n",
    "                    np.round(self.matches[self.authentic_impostor == auth_or_imp], 6),\n",
    "                ]\n",
    "            )\n",
    "        )\n",
    "\n",
    "\n",
    "    def save_matches(self, output_directory:str, group_name:str, match_type:str=\"all\", file_type=\"csv\"):\n",
    "        print(\"Saving matches output to \" + f\"{str(Path(output_directory))}\")\n",
    "        \n",
    "        if match_type not in [\"all\", \"authentic\", \"impostor\"]: raise TypeError\n",
    "        \n",
    "        authentic_output = Path(output_directory) / f\"{group_name}_authentic_scores.{file_type}\"\n",
    "        impostor_output = Path(output_directory) / f\"{group_name}_impostor_scores.{file_type}\"\n",
    "\n",
    "        if match_type == \"all\":\n",
    "            authentic, impostor = self.get_indices_score(1), self.get_indices_score(0)\n",
    "            choices = [(authentic_output, authentic), (impostor_output, impostor)]\n",
    "        elif match_type == \"authentic\":\n",
    "            authentic = self.get_indices_score(1)\n",
    "            choices = [(authentic_output, authentic)]\n",
    "        elif match_type == \"impostor\":\n",
    "            impostor = self.get_indices_score(0)\n",
    "            choices = [(impostor_output, impostor)]\n",
    "\n",
    "        for result_directory, data in choices:\n",
    "            probe_labels = (self.p_labels[idx] for idx in np.int64(data[:,0]))\n",
    "            gallery_labels = (self.g_labels[idx] for idx in np.int64(data[:,1]))\n",
    "            scores = data[:,2]\n",
    "\n",
    "            if file_type in [\"csv\", \"txt\"]:\n",
    "                if file_type == \"csv\":\n",
    "                    delimiting_character = \",\"\n",
    "                elif file_type == \"txt\":\n",
    "                    delimiting_character = \" \"\n",
    "                \n",
    "                with open(result_directory, \"w\") as out:\n",
    "                    csv_out = csv.writer(out, delimiter=delimiting_character)\n",
    "                    csv_out.writerows(zip(probe_labels, gallery_labels, scores))\n",
    "\n",
    "            elif file_type == \"npy\":\n",
    "                np.save(str(result_directory), scores)\n",
    "\n",
    "                if \"authentic_scores\" in result_directory.stem:\n",
    "                    labels_path = str(Path(output_directory) / f\"{group_name}_authentic_scores_labels.txt\")\n",
    "                else:\n",
    "                    labels_path = str(Path(output_directory) / f\"{group_name}_impostor_scores_labels.txt\")\n",
    "                \n",
    "                with open(labels_path, \"w\") as out:\n",
    "                    csv_out = csv.writer(out, delimiter=\" \")\n",
    "                    csv_out.writerows(zip(probe_labels, gallery_labels))\n",
    "\n",
    "    def save_score_matrix(self, output_directory:str, group_name:str, file_type=\"csv\"):\n",
    "        print(\"Saving score matrix to \" + f\"{str(Path(output_directory))}\")\n",
    "        matrix_output = Path(output_directory) / f\"{group_name}_score_matrix.{file_type}\"\n",
    "\n",
    "        if file_type == \"csv\":\n",
    "            df = pd.DataFrame(self.matches, index=self.p_labels, columns=self.g_labels)\n",
    "            df.to_csv(str(matrix_output))\n",
    "        elif file_type == \"npy\":\n",
    "            matrix_row_labels = str(Path(output_directory) / f\"{group_name}_score_matrix_row_labels.txt\")\n",
    "            matrix_col_labels = str(Path(output_directory) / f\"{group_name}_score_matrix_col_labels.txt\")\n",
    "            np.save(str(matrix_output), self.matches)\n",
    "            np.savetxt(matrix_row_labels, self.p_labels, fmt=\"%s\")\n",
    "            np.savetxt(matrix_col_labels, self.g_labels, fmt=\"%s\")"
   ]
  },
  {
   "cell_type": "code",
   "execution_count": 63,
   "metadata": {},
   "outputs": [
    {
     "name": "stderr",
     "output_type": "stream",
     "text": [
      "Probe Features: 100%|██████████| 10940/10940 [00:00<00:00, 15148.47it/s]\n",
      "Probe Subjects: 100%|██████████| 10940/10940 [00:00<00:00, 407778.52it/s]\n",
      "Probe Labels: 100%|██████████| 10940/10940 [00:00<00:00, 2610404.24it/s]\n",
      "Gallery Features: 100%|██████████| 10939/10939 [00:00<00:00, 15498.23it/s]\n",
      "Gallery Subjects: 100%|██████████| 10939/10939 [00:00<00:00, 410980.85it/s]\n",
      "Gallery Labels: 100%|██████████| 10939/10939 [00:00<00:00, 2843952.86it/s]\n"
     ]
    },
    {
     "name": "stdout",
     "output_type": "stream",
     "text": [
      "Matching /home/xavier/Pictures/cf_cloaked/templates/ to /home/xavier/Pictures/cf_og/templates/\n"
     ]
    }
   ],
   "source": [
    "probe = \"/home/xavier/Pictures/cf_cloaked/templates/\"\n",
    "gallery = \"/home/xavier/Pictures/cf_og/templates/\"\n",
    "m = Matcher(probe, gallery)#, gallery)"
   ]
  },
  {
   "cell_type": "code",
   "execution_count": 64,
   "metadata": {},
   "outputs": [
    {
     "name": "stdout",
     "output_type": "stream",
     "text": [
      "Saving matches output to /home/xavier/Documents/git/FeatureMatcher\n",
      "Done!\n"
     ]
    }
   ],
   "source": [
    "m.save_matches(os.getcwd(), \"test\", \"all\", \"npy\")\n",
    "print(\"Done!\")"
   ]
  },
  {
   "cell_type": "code",
   "execution_count": 22,
   "metadata": {},
   "outputs": [],
   "source": [
    "a = np.array([\"ABC_123_cloaked\", \"XYZ_123_cloaked\", \"ABC_234_cloaked\", \"ZZZ_123_cloaked\"])\n",
    "b = np.array([\"XYZ_123\", \"ABC_123\", \"ABC_234\"])\n",
    "\n",
    "# a_b = np.zeros(shape=(len(a), len(b)), dtype=np.int8)\n",
    "# for i in range(len(b)):\n",
    "#     a_b[]"
   ]
  },
  {
   "cell_type": "code",
   "execution_count": 31,
   "metadata": {},
   "outputs": [],
   "source": [
    "locations = np.where(np.core.defchararray.find(a[:,np.newaxis], b) >= 0)"
   ]
  },
  {
   "cell_type": "code",
   "execution_count": 32,
   "metadata": {},
   "outputs": [
    {
     "data": {
      "text/plain": [
       "array([[-1,  0, -1],\n",
       "       [ 0, -1, -1],\n",
       "       [-1, -1,  0],\n",
       "       [-1, -1, -1]])"
      ]
     },
     "execution_count": 32,
     "metadata": {},
     "output_type": "execute_result"
    }
   ],
   "source": [
    "np.core.defchararray.find(a[:,np.newaxis], b)"
   ]
  },
  {
   "cell_type": "code",
   "execution_count": 30,
   "metadata": {},
   "outputs": [
    {
     "data": {
      "text/plain": [
       "(array([['ABC_123_cloaked'],\n",
       "        ['XYZ_123_cloaked'],\n",
       "        ['ABC_234_cloaked'],\n",
       "        ['ZZZ_123_cloaked']], dtype='<U15'),\n",
       " array(['XYZ_123', 'ABC_123', 'ABC_234'], dtype='<U7'))"
      ]
     },
     "execution_count": 30,
     "metadata": {},
     "output_type": "execute_result"
    }
   ],
   "source": [
    "a[:, np.newaxis], b"
   ]
  },
  {
   "cell_type": "code",
   "execution_count": 39,
   "metadata": {},
   "outputs": [
    {
     "data": {
      "text/plain": [
       "(array([0, 1, 2]), array([1, 0, 2]))"
      ]
     },
     "execution_count": 39,
     "metadata": {},
     "output_type": "execute_result"
    }
   ],
   "source": [
    "locations"
   ]
  },
  {
   "cell_type": "code",
   "execution_count": 48,
   "metadata": {},
   "outputs": [
    {
     "data": {
      "text/plain": [
       "array([[0, 1],\n",
       "       [1, 0],\n",
       "       [2, 2]])"
      ]
     },
     "execution_count": 48,
     "metadata": {},
     "output_type": "execute_result"
    }
   ],
   "source": [
    "loc = np.transpose(locations)\n",
    "loc"
   ]
  },
  {
   "cell_type": "code",
   "execution_count": 52,
   "metadata": {},
   "outputs": [
    {
     "name": "stdout",
     "output_type": "stream",
     "text": [
      "0 1\n",
      "1 0\n",
      "2 2\n"
     ]
    }
   ],
   "source": [
    "for l in loc:\n",
    "    i, j = l\n",
    "    print(*l)"
   ]
  },
  {
   "cell_type": "code",
   "execution_count": 37,
   "metadata": {},
   "outputs": [
    {
     "data": {
      "text/plain": [
       "array([0, 1, 2])"
      ]
     },
     "execution_count": 37,
     "metadata": {},
     "output_type": "execute_result"
    }
   ],
   "source": [
    "x"
   ]
  },
  {
   "cell_type": "code",
   "execution_count": 38,
   "metadata": {},
   "outputs": [
    {
     "data": {
      "text/plain": [
       "array([1, 0, 2])"
      ]
     },
     "execution_count": 38,
     "metadata": {},
     "output_type": "execute_result"
    }
   ],
   "source": [
    "y"
   ]
  },
  {
   "cell_type": "code",
   "execution_count": null,
   "metadata": {},
   "outputs": [],
   "source": []
  }
 ],
 "metadata": {
  "kernelspec": {
   "display_name": "base",
   "language": "python",
   "name": "python3"
  },
  "language_info": {
   "codemirror_mode": {
    "name": "ipython",
    "version": 3
   },
   "file_extension": ".py",
   "mimetype": "text/x-python",
   "name": "python",
   "nbconvert_exporter": "python",
   "pygments_lexer": "ipython3",
   "version": "3.10.9"
  },
  "orig_nbformat": 4
 },
 "nbformat": 4,
 "nbformat_minor": 2
}
